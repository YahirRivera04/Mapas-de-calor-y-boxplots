{
 "cells": [
  {
   "cell_type": "markdown",
   "id": "68f10145",
   "metadata": {},
   "source": [
    "# Mapas de Calor y Boxplot\n",
    "\n",
    "**Integrantes:**\n",
    "\n",
    "Yahir Rivera Huerta\n",
    "\n",
    "Aldo Parada\n",
    "\n",
    "Jacob Valdenegro\n",
    "\n",
    "Dilan Ocampo\n",
    "\n",
    "Roberto Rillo\n"
   ]
  },
  {
   "cell_type": "code",
   "execution_count": 3,
   "id": "d7d2a965",
   "metadata": {},
   "outputs": [],
   "source": [
    "import pandas as pd\n",
    "import matplotlib.pyplot as plt\n",
    "import numpy as np\n",
    "import seaborn as sns"
   ]
  },
  {
   "cell_type": "code",
   "execution_count": 4,
   "id": "9672586d",
   "metadata": {},
   "outputs": [
    {
     "data": {
      "text/html": [
       "<div>\n",
       "<style scoped>\n",
       "    .dataframe tbody tr th:only-of-type {\n",
       "        vertical-align: middle;\n",
       "    }\n",
       "\n",
       "    .dataframe tbody tr th {\n",
       "        vertical-align: top;\n",
       "    }\n",
       "\n",
       "    .dataframe thead th {\n",
       "        text-align: right;\n",
       "    }\n",
       "</style>\n",
       "<table border=\"1\" class=\"dataframe\">\n",
       "  <thead>\n",
       "    <tr style=\"text-align: right;\">\n",
       "      <th></th>\n",
       "      <th>ejercicio_fiscal</th>\n",
       "      <th>clave_estado</th>\n",
       "      <th>entidad</th>\n",
       "      <th>numero_pescadores_capacitados</th>\n",
       "      <th>nombre_curso</th>\n",
       "    </tr>\n",
       "  </thead>\n",
       "  <tbody>\n",
       "    <tr>\n",
       "      <th>0</th>\n",
       "      <td>2014</td>\n",
       "      <td>2</td>\n",
       "      <td>Baja California</td>\n",
       "      <td>64</td>\n",
       "      <td>Basico de Seguridad para Pescadores Riberenos</td>\n",
       "    </tr>\n",
       "    <tr>\n",
       "      <th>1</th>\n",
       "      <td>2014</td>\n",
       "      <td>2</td>\n",
       "      <td>Baja California</td>\n",
       "      <td>33</td>\n",
       "      <td>Basico de Seguridad para Prestadores de Servic...</td>\n",
       "    </tr>\n",
       "    <tr>\n",
       "      <th>2</th>\n",
       "      <td>2014</td>\n",
       "      <td>7</td>\n",
       "      <td>Chiapas</td>\n",
       "      <td>795</td>\n",
       "      <td>Basico de Seguridad para Pescadores Riberenos</td>\n",
       "    </tr>\n",
       "    <tr>\n",
       "      <th>3</th>\n",
       "      <td>2014</td>\n",
       "      <td>12</td>\n",
       "      <td>Guerrero</td>\n",
       "      <td>60</td>\n",
       "      <td>Basico de Mantenimiento de Motores Fuera de Borda</td>\n",
       "    </tr>\n",
       "    <tr>\n",
       "      <th>4</th>\n",
       "      <td>2014</td>\n",
       "      <td>12</td>\n",
       "      <td>Guerrero</td>\n",
       "      <td>132</td>\n",
       "      <td>Basico de Seguridad para Pescadores Riberenos</td>\n",
       "    </tr>\n",
       "    <tr>\n",
       "      <th>5</th>\n",
       "      <td>2014</td>\n",
       "      <td>12</td>\n",
       "      <td>Guerrero</td>\n",
       "      <td>532</td>\n",
       "      <td>Basico de Seguridad para Pescadores Riberenos</td>\n",
       "    </tr>\n",
       "    <tr>\n",
       "      <th>6</th>\n",
       "      <td>2014</td>\n",
       "      <td>14</td>\n",
       "      <td>Jalisco</td>\n",
       "      <td>79</td>\n",
       "      <td>Basico de Seguridad para Pescadores Riberenos</td>\n",
       "    </tr>\n",
       "    <tr>\n",
       "      <th>7</th>\n",
       "      <td>2014</td>\n",
       "      <td>14</td>\n",
       "      <td>Jalisco</td>\n",
       "      <td>46</td>\n",
       "      <td>Basico de Seguridad para Prestadores de Servic...</td>\n",
       "    </tr>\n",
       "    <tr>\n",
       "      <th>8</th>\n",
       "      <td>2014</td>\n",
       "      <td>14</td>\n",
       "      <td>Jalisco</td>\n",
       "      <td>124</td>\n",
       "      <td>Basico de Seguridad para Pescadores Riberenos</td>\n",
       "    </tr>\n",
       "    <tr>\n",
       "      <th>9</th>\n",
       "      <td>2014</td>\n",
       "      <td>14</td>\n",
       "      <td>Jalisco</td>\n",
       "      <td>121</td>\n",
       "      <td>Basico de Seguridad para Pescadores Riberenos</td>\n",
       "    </tr>\n",
       "  </tbody>\n",
       "</table>\n",
       "</div>"
      ],
      "text/plain": [
       "   ejercicio_fiscal  clave_estado          entidad  \\\n",
       "0              2014             2  Baja California   \n",
       "1              2014             2  Baja California   \n",
       "2              2014             7          Chiapas   \n",
       "3              2014            12         Guerrero   \n",
       "4              2014            12         Guerrero   \n",
       "5              2014            12         Guerrero   \n",
       "6              2014            14          Jalisco   \n",
       "7              2014            14          Jalisco   \n",
       "8              2014            14          Jalisco   \n",
       "9              2014            14          Jalisco   \n",
       "\n",
       "   numero_pescadores_capacitados  \\\n",
       "0                             64   \n",
       "1                             33   \n",
       "2                            795   \n",
       "3                             60   \n",
       "4                            132   \n",
       "5                            532   \n",
       "6                             79   \n",
       "7                             46   \n",
       "8                            124   \n",
       "9                            121   \n",
       "\n",
       "                                        nombre_curso  \n",
       "0      Basico de Seguridad para Pescadores Riberenos  \n",
       "1  Basico de Seguridad para Prestadores de Servic...  \n",
       "2      Basico de Seguridad para Pescadores Riberenos  \n",
       "3  Basico de Mantenimiento de Motores Fuera de Borda  \n",
       "4      Basico de Seguridad para Pescadores Riberenos  \n",
       "5      Basico de Seguridad para Pescadores Riberenos  \n",
       "6      Basico de Seguridad para Pescadores Riberenos  \n",
       "7  Basico de Seguridad para Prestadores de Servic...  \n",
       "8      Basico de Seguridad para Pescadores Riberenos  \n",
       "9      Basico de Seguridad para Pescadores Riberenos  "
      ]
     },
     "execution_count": 4,
     "metadata": {},
     "output_type": "execute_result"
    }
   ],
   "source": [
    "df = pd.read_csv(\"Capacitados_vida_humana_mar.csv\")\n",
    "\n",
    "df.head(10)"
   ]
  },
  {
   "cell_type": "code",
   "execution_count": 5,
   "id": "23d195cd",
   "metadata": {},
   "outputs": [
    {
     "data": {
      "text/html": [
       "<div>\n",
       "<style scoped>\n",
       "    .dataframe tbody tr th:only-of-type {\n",
       "        vertical-align: middle;\n",
       "    }\n",
       "\n",
       "    .dataframe tbody tr th {\n",
       "        vertical-align: top;\n",
       "    }\n",
       "\n",
       "    .dataframe thead th {\n",
       "        text-align: right;\n",
       "    }\n",
       "</style>\n",
       "<table border=\"1\" class=\"dataframe\">\n",
       "  <thead>\n",
       "    <tr style=\"text-align: right;\">\n",
       "      <th></th>\n",
       "      <th>Clave del Estado</th>\n",
       "      <th>Pescadores Capacitados</th>\n",
       "    </tr>\n",
       "  </thead>\n",
       "  <tbody>\n",
       "    <tr>\n",
       "      <th>0</th>\n",
       "      <td>2</td>\n",
       "      <td>1122</td>\n",
       "    </tr>\n",
       "    <tr>\n",
       "      <th>1</th>\n",
       "      <td>3</td>\n",
       "      <td>727</td>\n",
       "    </tr>\n",
       "    <tr>\n",
       "      <th>2</th>\n",
       "      <td>4</td>\n",
       "      <td>251</td>\n",
       "    </tr>\n",
       "    <tr>\n",
       "      <th>3</th>\n",
       "      <td>5</td>\n",
       "      <td>86</td>\n",
       "    </tr>\n",
       "    <tr>\n",
       "      <th>4</th>\n",
       "      <td>6</td>\n",
       "      <td>49</td>\n",
       "    </tr>\n",
       "  </tbody>\n",
       "</table>\n",
       "</div>"
      ],
      "text/plain": [
       "   Clave del Estado  Pescadores Capacitados\n",
       "0                 2                    1122\n",
       "1                 3                     727\n",
       "2                 4                     251\n",
       "3                 5                      86\n",
       "4                 6                      49"
      ]
     },
     "execution_count": 5,
     "metadata": {},
     "output_type": "execute_result"
    }
   ],
   "source": [
    "df2 = pd.DataFrame(data={\"Clave del Estado\":[2,3,4,5,6,7,12,14,15,16,20,22,23,25,26,27,28,29,30,31,32],\n",
    "                         \"Pescadores Capacitados\":[1122,727,251,86,49,2604,1083,2170,42,722,2020,174,498,3356,1481,227,2320,39,425,2617,150]})\n",
    "df2.head()"
   ]
  },
  {
   "cell_type": "code",
   "execution_count": 6,
   "id": "d938965f",
   "metadata": {},
   "outputs": [
    {
     "data": {
      "image/png": "[encoded data removed]",
      "text/plain": [
       "<Figure size 432x288 with 1 Axes>"
      ]
     },
     "metadata": {},
     "output_type": "display_data"
    }
   ],
   "source": [
    "df2.set_index('Clave del Estado')['Pescadores Capacitados'].plot.pie();\n"
   ]
  },
  {
   "cell_type": "code",
   "execution_count": 7,
   "id": "61a27569",
   "metadata": {},
   "outputs": [
    {
     "data": {
      "text/plain": [
       "Text(0.5, 1.0, 'Histograma de Pescadores Capacitados en México')"
      ]
     },
     "execution_count": 7,
     "metadata": {},
     "output_type": "execute_result"
    },
    {
     "data": {
      "image/png": "[encoded data removed]",
      "text/plain": [
       "<Figure size 432x288 with 1 Axes>"
      ]
     },
     "metadata": {
      "needs_background": "light"
     },
     "output_type": "display_data"
    }
   ],
   "source": [
    "sns.histplot(data=df2, x='Pescadores Capacitados')\n",
    "plt.title(\"Histograma de Pescadores Capacitados en México\")"
   ]
  },
  {
   "cell_type": "code",
   "execution_count": 9,
   "id": "4dca87d3",
   "metadata": {},
   "outputs": [
    {
     "data": {
      "text/plain": [
       "<AxesSubplot:>"
      ]
     },
     "execution_count": 9,
     "metadata": {},
     "output_type": "execute_result"
    },
    {
     "data": {
      "image/png": "[encoded data removed]",
      "text/plain": [
       "<Figure size 432x288 with 2 Axes>"
      ]
     },
     "metadata": {
      "needs_background": "light"
     },
     "output_type": "display_data"
    }
   ],
   "source": [
    "iris_corr = df2.corr()\n",
    "sns.heatmap(data=iris_corr,cmap = 'RdBu')"
   ]
  },
  {
   "cell_type": "code",
   "execution_count": 13,
   "id": "9d4ac6f1",
   "metadata": {},
   "outputs": [
    {
     "data": {
      "text/plain": [
       "Text(0.5, 1.0, 'Histograma de Pescadores Capacitados en México')"
      ]
     },
     "execution_count": 13,
     "metadata": {},
     "output_type": "execute_result"
    },
    {
     "data": {
      "image/png": "[encoded data removed]",
      "text/plain": [
       "<Figure size 648x288 with 1 Axes>"
      ]
     },
     "metadata": {
      "needs_background": "light"
     },
     "output_type": "display_data"
    }
   ],
   "source": [
    "fig = plt.figure(figsize=(9, 4))\n",
    "sns.boxplot(data=df2, x='Pescadores Capacitados')\n",
    "plt.title('Histograma de Pescadores Capacitados en México')"
   ]
  },
  {
   "cell_type": "markdown",
   "id": "66c0e630",
   "metadata": {},
   "source": [
    "¿Hay alguna variable que no aporta información?\n",
    "Si, el ejercicio fiscal y el nombre del curso\n",
    "\n",
    "Si tuvieras que eliminar variables, ¿cuáles quitarías y por qué?\n",
    "Quitaría que se repitieran por año ya que esto genera problemas al hacer las tablas\n",
    "\n",
    "¿Existen variables que tengan datos extraños?\n",
    "No\n",
    "\n",
    "Si comparas las variables, ¿todas están en rangos similares? ¿Crees que esto afecte?\n",
    "No creo que haya afectado, ya que los rangos no son tan similares, pero podemos sacar datos más concretos con eso\n",
    "\n",
    "¿Puedes encontrar grupos qué se parezcan? ¿Qué grupos son estos?\n",
    "Los grupos de los estados ya que son los mismos pero en diferentes años"
   ]
  }
 ],
 "metadata": {
  "kernelspec": {
   "display_name": "Python 3 (ipykernel)",
   "language": "python",
   "name": "python3"
  },
  "language_info": {
   "codemirror_mode": {
    "name": "ipython",
    "version": 3
   },
   "file_extension": ".py",
   "mimetype": "text/x-python",
   "name": "python",
   "nbconvert_exporter": "python",
   "pygments_lexer": "ipython3",
   "version": "3.9.7"
  }
 },
 "nbformat": 4,
 "nbformat_minor": 5
}
